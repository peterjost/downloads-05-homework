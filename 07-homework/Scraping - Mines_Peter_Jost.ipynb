{
 "cells": [
  {
   "cell_type": "markdown",
   "metadata": {},
   "source": [
    "# Mine Safety\n",
    "\n",
    "We're interested in [US mine safety](https://arlweb.msha.gov/drs/drshome.htm#MID), thank goodness we can search for these things."
   ]
  },
  {
   "cell_type": "markdown",
   "metadata": {},
   "source": [
    "## Preparation: Knowing your tags\n",
    "\n",
    "These questions are the same for every data set, and might not work exactly for yours.\n",
    "\n",
    "**Search for every operator with 'dirt' in their name, including abandoned mines.**"
   ]
  },
  {
   "cell_type": "markdown",
   "metadata": {},
   "source": [
    "### What is the tag and class name for every row of data?"
   ]
  },
  {
   "cell_type": "code",
   "execution_count": null,
   "metadata": {
    "collapsed": true
   },
   "outputs": [],
   "source": [
    "# tag name of every row: <tr>, class: none"
   ]
  },
  {
   "cell_type": "markdown",
   "metadata": {},
   "source": [
    "### What is the tag and class name for every mine operator's name?"
   ]
  },
  {
   "cell_type": "code",
   "execution_count": null,
   "metadata": {
    "collapsed": true
   },
   "outputs": [],
   "source": [
    "# tag name of mine operator's name: <td>, class: none"
   ]
  },
  {
   "cell_type": "markdown",
   "metadata": {},
   "source": [
    "### What is the tag and class name for every mine's name?"
   ]
  },
  {
   "cell_type": "code",
   "execution_count": null,
   "metadata": {
    "collapsed": true
   },
   "outputs": [],
   "source": [
    "# tag name of mine's name: <td>, class: none"
   ]
  },
  {
   "cell_type": "markdown",
   "metadata": {},
   "source": [
    "### What is the tag and class name for every mine operator's name?"
   ]
  },
  {
   "cell_type": "code",
   "execution_count": null,
   "metadata": {
    "collapsed": true
   },
   "outputs": [],
   "source": [
    "# tag name of mine operator's name: <td>, class: none"
   ]
  },
  {
   "cell_type": "markdown",
   "metadata": {},
   "source": [
    "### What is the tag and class name for every mine operator's name?"
   ]
  },
  {
   "cell_type": "code",
   "execution_count": null,
   "metadata": {
    "collapsed": true
   },
   "outputs": [],
   "source": [
    "# tag name of mine operator's name: <td>, class: none"
   ]
  },
  {
   "cell_type": "markdown",
   "metadata": {},
   "source": [
    "## Being lazy\n",
    "\n",
    "If you only needed these results, what would you do instead of scraping them?"
   ]
  },
  {
   "cell_type": "code",
   "execution_count": null,
   "metadata": {
    "collapsed": true
   },
   "outputs": [],
   "source": []
  },
  {
   "cell_type": "markdown",
   "metadata": {},
   "source": [
    "## Setup: Import what you'll need to scrape the page\n",
    "\n",
    "Use `requests`, not `urllib`."
   ]
  },
  {
   "cell_type": "code",
   "execution_count": 1,
   "metadata": {
    "collapsed": true
   },
   "outputs": [],
   "source": [
    "import requests\n",
    "from bs4 import BeautifulSoup\n",
    "import pandas as pd"
   ]
  },
  {
   "cell_type": "code",
   "execution_count": 2,
   "metadata": {
    "collapsed": true
   },
   "outputs": [],
   "source": [
    "# We have to send data with the form request (see below)"
   ]
  },
  {
   "cell_type": "code",
   "execution_count": 3,
   "metadata": {
    "collapsed": true
   },
   "outputs": [],
   "source": [
    "data = {\n",
    "    'OperSearch':'dirt',\n",
    "    'Abandoned':'No',\n",
    "    'MineName':'',\n",
    "    'StateSearch':'None',\n",
    "    'CM':'All',\n",
    "    'x':'0',\n",
    "    'y':'0',\n",
    "    'MC':'Opersearch'\n",
    "}\n",
    "\n",
    "url = 'https://arlweb.msha.gov/drs/ASP/OprNameStatesearch.asp'\n",
    "response = requests.post(url, data=data)"
   ]
  },
  {
   "cell_type": "code",
   "execution_count": 4,
   "metadata": {
    "collapsed": true
   },
   "outputs": [],
   "source": [
    "doc = BeautifulSoup(response.text, 'html.parser')"
   ]
  },
  {
   "cell_type": "markdown",
   "metadata": {},
   "source": [
    "## Try to scrape the page\n",
    "\n",
    "To test if you requested the page correctly, save the BeautifulSoup document as `doc` and run the code `doc.find_all('tr')[-1].text` to get the text of the last `<tr>` element.\n",
    "\n",
    "- If the result starts with **Total Number of Mines Found**, you were successful."
   ]
  },
  {
   "cell_type": "code",
   "execution_count": 5,
   "metadata": {},
   "outputs": [
    {
     "data": {
      "text/plain": [
       "'\\nTotal Number of Mines Found:\\xa0\\xa019'"
      ]
     },
     "execution_count": 5,
     "metadata": {},
     "output_type": "execute_result"
    }
   ],
   "source": [
    "doc.find_all('tr')[-1].text"
   ]
  },
  {
   "cell_type": "markdown",
   "metadata": {},
   "source": [
    "## Actually scraping"
   ]
  },
  {
   "cell_type": "markdown",
   "metadata": {},
   "source": [
    "### Hopefully you know that each `tr` is supposed to be your data. What is the index of the first row element that is actually a result?\n",
    "\n",
    "`.text` will help you here."
   ]
  },
  {
   "cell_type": "code",
   "execution_count": 108,
   "metadata": {},
   "outputs": [
    {
     "data": {
      "text/plain": [
       "'3503598\\n\\nOR\\xa0\\n Newberg Rock & Dirt \\xa0\\nNewberg Rock & Dirt\\nSurface             \\nM\\xa0\\nActive\\xa0 \\nCrushed, Broken Stone NEC'"
      ]
     },
     "execution_count": 108,
     "metadata": {},
     "output_type": "execute_result"
    }
   ],
   "source": [
    "doc.find_all('tr')[7].text.strip()"
   ]
  },
  {
   "cell_type": "markdown",
   "metadata": {},
   "source": [
    "### Loop through each operator result, printing its name\n",
    "\n",
    "Use LIST SLICING to skip the non-data row(s)."
   ]
  },
  {
   "cell_type": "code",
   "execution_count": 142,
   "metadata": {},
   "outputs": [
    {
     "data": {
      "text/plain": [
       "<tr>\n",
       "<td align=\"center\">\n",
       "<form action=\"/drs/ASP/BasicMineInfostatecounty.asp\" method=\"post\" name=\"search\">\n",
       "<input name=\"MineId\" type=\"hidden\" value=\"3503598\"/><font style=\"FONT-SIZE:.75em;\">3503598</font>\n",
       "</form></td>\n",
       "<td><font style=\"FONT-SIZE:.75em;\"><!-- DNT --><b>OR</b><!-- /DNT --> </font></td>\n",
       "<td><font style=\"FONT-SIZE:.75em;\"><!-- DNT --> Newberg Rock &amp; Dirt<!-- /DNT -->  </font></td>\n",
       "<td><font style=\"FONT-SIZE:.75em;\"><!-- DNT -->Newberg Rock &amp; Dirt<!-- /DNT --></font></td>\n",
       "<td align=\"center\"><font style=\"FONT-SIZE:.75em;\"><!-- DNT -->Surface             <!-- /DNT --></font></td>\n",
       "<td align=\"center\"><font style=\"FONT-SIZE:.75em;\"><!-- DNT -->M<!-- /DNT --> </font></td>\n",
       "<td><font style=\"FONT-SIZE:.75em;\">Active  </font></td>\n",
       "<td><font style=\"FONT-SIZE:.75em;\">Crushed, Broken Stone NEC  </font></td>\n",
       "<th bgcolor=\"#000000\"><input alt=\"More Information\" border=\"0\" name=\"submit\" src=\"/drs/images/moreinfo.jpg\" type=\"image\"/></th></tr>"
      ]
     },
     "execution_count": 142,
     "metadata": {},
     "output_type": "execute_result"
    }
   ],
   "source": [
    "tr = doc.find_all('tr')[7] # display the first tr-tag with the data we are searching for\n",
    "tr"
   ]
  },
  {
   "cell_type": "code",
   "execution_count": 138,
   "metadata": {},
   "outputs": [
    {
     "name": "stdout",
     "output_type": "stream",
     "text": [
      "<td align=\"center\">\n",
      "<form action=\"/drs/ASP/BasicMineInfostatecounty.asp\" method=\"post\" name=\"search\">\n",
      "<input name=\"MineId\" type=\"hidden\" value=\"2103518\"/><font style=\"FONT-SIZE:.75em;\">2103518</font>\n",
      "</form></td>\n",
      "<td><font style=\"FONT-SIZE:.75em;\"><!-- DNT --><b>MN</b><!-- /DNT --> </font></td>\n",
      "<td><font style=\"FONT-SIZE:.75em;\"><!-- DNT -->Vogt Dirt Service<!-- /DNT -->  </font></td>\n",
      "<td><font style=\"FONT-SIZE:.75em;\"><!-- DNT -->Crusher<!-- /DNT --></font></td>\n",
      "<td align=\"center\"><font style=\"FONT-SIZE:.75em;\"><!-- DNT -->Surface             <!-- /DNT --></font></td>\n",
      "<td align=\"center\"><font style=\"FONT-SIZE:.75em;\"><!-- DNT -->M<!-- /DNT --> </font></td>\n",
      "<td><font style=\"FONT-SIZE:.75em;\">Intermittent  </font></td>\n",
      "<td><font style=\"FONT-SIZE:.75em;\">Construction Sand and Gravel  </font></td>\n"
     ]
    }
   ],
   "source": [
    "print (tr.find_all('td')[0]) # display the td-tags, finding the one with the name-data\n",
    "print (tr.find_all('td')[1])\n",
    "print (tr.find_all('td')[2])\n",
    "print (tr.find_all('td')[3])\n",
    "print (tr.find_all('td')[4])\n",
    "print (tr.find_all('td')[5])\n",
    "print (tr.find_all('td')[6])\n",
    "print (tr.find_all('td')[7])"
   ]
  },
  {
   "cell_type": "code",
   "execution_count": 130,
   "metadata": {
    "collapsed": true
   },
   "outputs": [],
   "source": [
    "operator = tr.find_all('td')[2].text.strip()"
   ]
  },
  {
   "cell_type": "code",
   "execution_count": 131,
   "metadata": {},
   "outputs": [
    {
     "data": {
      "text/plain": [
       "19"
      ]
     },
     "execution_count": 131,
     "metadata": {},
     "output_type": "execute_result"
    }
   ],
   "source": [
    "trs = doc.find_all('tr')[7:26]\n",
    "len(trs)"
   ]
  },
  {
   "cell_type": "code",
   "execution_count": 137,
   "metadata": {},
   "outputs": [
    {
     "name": "stdout",
     "output_type": "stream",
     "text": [
      "Newberg Rock & Dirt\n",
      "AM Dirtworks & Aggregate Sales\n",
      "Dirt Company\n",
      "Dirt Con\n",
      "Dirt Doctor Inc\n",
      "Dirt Works\n",
      "Holley Dirt Company, Inc\n",
      "Krueger Brothers Gravel & Dirt\n",
      "M R Dirt\n",
      "M.R. Dirt Inc.\n",
      "P B Dirt Movers, Inc\n",
      "PB Dirt Movers\n",
      "PB Dirt Movers, Inc\n",
      "Prescott Dirt, LLC\n",
      "R D Blankenship Dirt Work LLC\n",
      "SIMPSON DIRTWORX LLC\n",
      "SIMPSON DIRTWORX LLC\n",
      "Spry's Dirt & Gravel, Inc.\n",
      "Vogt Dirt Service\n"
     ]
    }
   ],
   "source": [
    "for tr in trs:\n",
    "    print (tr.find_all('td')[2].text.strip())"
   ]
  },
  {
   "cell_type": "markdown",
   "metadata": {},
   "source": [
    "### Loop through each operator result, printing its ID\n",
    "\n",
    "There should be ONE code per row, and NO empty rows between them."
   ]
  },
  {
   "cell_type": "code",
   "execution_count": 118,
   "metadata": {
    "collapsed": true
   },
   "outputs": [],
   "source": [
    "operator_id = tr.find_all('td')[0].text.strip()"
   ]
  },
  {
   "cell_type": "code",
   "execution_count": 136,
   "metadata": {},
   "outputs": [
    {
     "name": "stdout",
     "output_type": "stream",
     "text": [
      "3503598\n",
      "4801789\n",
      "5001797\n",
      "4608254\n",
      "2103723\n",
      "4104757\n",
      "0801306\n",
      "3901432\n",
      "3609624\n",
      "3609931\n",
      "1519799\n",
      "4407296\n",
      "4407270\n",
      "0203332\n",
      "2901986\n",
      "4300768\n",
      "4300776\n",
      "2302283\n",
      "2103518\n"
     ]
    }
   ],
   "source": [
    "for tr in trs:\n",
    "    print (tr.find_all('td')[0].text.strip())\n",
    "    current['operator_id'] = tr.find_all('td')[0].text.strip()"
   ]
  },
  {
   "cell_type": "markdown",
   "metadata": {},
   "source": [
    "## Saving the results\n",
    "\n",
    "### Loop through each `tr` to create a list of dictionaries\n",
    "\n",
    "Each dictionary must contain\n",
    "\n",
    "- Operator ID\n",
    "- Operator name\n",
    "- Mine name\n",
    "- State\n",
    "- Mine type\n",
    "- Coal or metal\n",
    "- Status\n",
    "- Commodity\n",
    "\n",
    "Create a new dictionary for each row."
   ]
  },
  {
   "cell_type": "code",
   "execution_count": 143,
   "metadata": {},
   "outputs": [],
   "source": [
    "scrape_mines = []\n",
    "for tr in doc.find_all('tr')[7:26]:\n",
    "    current = {}\n",
    "    current[\"operator_id\"] = tr.find_all('td')[0].text.strip()\n",
    "    current[\"operator_name\"] = tr.find_all('td')[2].text.strip()\n",
    "    current[\"mine_name\"] = tr.find_all('td')[3].text.strip()\n",
    "    current[\"state\"] = tr.find_all('td')[1].text.strip()\n",
    "    current[\"mine_type\"] = tr.find_all('td')[4].text.strip()\n",
    "    current[\"coal_or_metal\"] = tr.find_all('td')[5].text.strip()\n",
    "    current[\"status\"] = tr.find_all('td')[6].text.strip()\n",
    "    current[\"commodity\"] = tr.find_all('td')[7].text.strip()\n",
    "    scrape_mines.append(current)"
   ]
  },
  {
   "cell_type": "markdown",
   "metadata": {},
   "source": [
    "### Save that to a CSV"
   ]
  },
  {
   "cell_type": "code",
   "execution_count": 146,
   "metadata": {
    "collapsed": true
   },
   "outputs": [],
   "source": [
    "df = pd.DataFrame(scrape_mines)"
   ]
  },
  {
   "cell_type": "code",
   "execution_count": 147,
   "metadata": {
    "collapsed": true
   },
   "outputs": [],
   "source": [
    "df.to_csv(\"scrape_mines.csv\", index=False)"
   ]
  },
  {
   "cell_type": "markdown",
   "metadata": {},
   "source": [
    "### Open the CSV file and examine the first few. Make sure you didn't save an extra weird unnamed column."
   ]
  },
  {
   "cell_type": "code",
   "execution_count": 148,
   "metadata": {},
   "outputs": [
    {
     "data": {
      "text/html": [
       "<div>\n",
       "<style>\n",
       "    .dataframe thead tr:only-child th {\n",
       "        text-align: right;\n",
       "    }\n",
       "\n",
       "    .dataframe thead th {\n",
       "        text-align: left;\n",
       "    }\n",
       "\n",
       "    .dataframe tbody tr th {\n",
       "        vertical-align: top;\n",
       "    }\n",
       "</style>\n",
       "<table border=\"1\" class=\"dataframe\">\n",
       "  <thead>\n",
       "    <tr style=\"text-align: right;\">\n",
       "      <th></th>\n",
       "      <th>coal_or_metal</th>\n",
       "      <th>commodity</th>\n",
       "      <th>mine_name</th>\n",
       "      <th>mine_type</th>\n",
       "      <th>operator_id</th>\n",
       "      <th>operator_name</th>\n",
       "      <th>state</th>\n",
       "      <th>status</th>\n",
       "    </tr>\n",
       "  </thead>\n",
       "  <tbody>\n",
       "    <tr>\n",
       "      <th>0</th>\n",
       "      <td>M</td>\n",
       "      <td>Crushed, Broken Stone NEC</td>\n",
       "      <td>Newberg Rock &amp; Dirt</td>\n",
       "      <td>Surface</td>\n",
       "      <td>3503598</td>\n",
       "      <td>Newberg Rock &amp; Dirt</td>\n",
       "      <td>OR</td>\n",
       "      <td>Active</td>\n",
       "    </tr>\n",
       "    <tr>\n",
       "      <th>1</th>\n",
       "      <td>M</td>\n",
       "      <td>Construction Sand and Gravel</td>\n",
       "      <td>AM Dirtworks &amp; Aggregate Sales</td>\n",
       "      <td>Surface</td>\n",
       "      <td>4801789</td>\n",
       "      <td>AM Dirtworks &amp; Aggregate Sales</td>\n",
       "      <td>ND</td>\n",
       "      <td>Intermittent</td>\n",
       "    </tr>\n",
       "    <tr>\n",
       "      <th>2</th>\n",
       "      <td>M</td>\n",
       "      <td>Construction Sand and Gravel</td>\n",
       "      <td>Bush Pilot</td>\n",
       "      <td>Surface</td>\n",
       "      <td>5001797</td>\n",
       "      <td>Dirt Company</td>\n",
       "      <td>AK</td>\n",
       "      <td>Intermittent</td>\n",
       "    </tr>\n",
       "    <tr>\n",
       "      <th>3</th>\n",
       "      <td>M</td>\n",
       "      <td>Crushed, Broken Limestone NEC</td>\n",
       "      <td>Hog Lick Quarry</td>\n",
       "      <td>Surface</td>\n",
       "      <td>4608254</td>\n",
       "      <td>Dirt Con</td>\n",
       "      <td>WV</td>\n",
       "      <td>Temporarily Idled</td>\n",
       "    </tr>\n",
       "    <tr>\n",
       "      <th>4</th>\n",
       "      <td>M</td>\n",
       "      <td>Construction Sand and Gravel</td>\n",
       "      <td>Rock Lake Plant</td>\n",
       "      <td>Surface</td>\n",
       "      <td>2103723</td>\n",
       "      <td>Dirt Doctor Inc</td>\n",
       "      <td>MN</td>\n",
       "      <td>Intermittent</td>\n",
       "    </tr>\n",
       "    <tr>\n",
       "      <th>5</th>\n",
       "      <td>M</td>\n",
       "      <td>Construction Sand and Gravel</td>\n",
       "      <td>Portable #1</td>\n",
       "      <td>Surface</td>\n",
       "      <td>4104757</td>\n",
       "      <td>Dirt Works</td>\n",
       "      <td>TX</td>\n",
       "      <td>Intermittent</td>\n",
       "    </tr>\n",
       "    <tr>\n",
       "      <th>6</th>\n",
       "      <td>M</td>\n",
       "      <td>Sand, Common</td>\n",
       "      <td>River Road Pit</td>\n",
       "      <td>Surface</td>\n",
       "      <td>801306</td>\n",
       "      <td>Holley Dirt Company, Inc</td>\n",
       "      <td>FL</td>\n",
       "      <td>Active</td>\n",
       "    </tr>\n",
       "    <tr>\n",
       "      <th>7</th>\n",
       "      <td>M</td>\n",
       "      <td>Construction Sand and Gravel</td>\n",
       "      <td>PORTABLE SCREENER</td>\n",
       "      <td>Surface</td>\n",
       "      <td>3901432</td>\n",
       "      <td>Krueger Brothers Gravel &amp; Dirt</td>\n",
       "      <td>SD</td>\n",
       "      <td>Intermittent</td>\n",
       "    </tr>\n",
       "    <tr>\n",
       "      <th>8</th>\n",
       "      <td>M</td>\n",
       "      <td>Construction Sand and Gravel</td>\n",
       "      <td>Forbes Pit</td>\n",
       "      <td>Surface</td>\n",
       "      <td>3609624</td>\n",
       "      <td>M R Dirt</td>\n",
       "      <td>PA</td>\n",
       "      <td>Intermittent</td>\n",
       "    </tr>\n",
       "    <tr>\n",
       "      <th>9</th>\n",
       "      <td>M</td>\n",
       "      <td>Dimension Stone NEC</td>\n",
       "      <td>Camptown Quarry</td>\n",
       "      <td>Surface</td>\n",
       "      <td>3609931</td>\n",
       "      <td>M.R. Dirt Inc.</td>\n",
       "      <td>PA</td>\n",
       "      <td>Intermittent</td>\n",
       "    </tr>\n",
       "    <tr>\n",
       "      <th>10</th>\n",
       "      <td>C</td>\n",
       "      <td>Coal (Bituminous)</td>\n",
       "      <td>Fedscreek Surface</td>\n",
       "      <td>Surface</td>\n",
       "      <td>1519799</td>\n",
       "      <td>P B Dirt Movers, Inc</td>\n",
       "      <td>KY</td>\n",
       "      <td>Active</td>\n",
       "    </tr>\n",
       "    <tr>\n",
       "      <th>11</th>\n",
       "      <td>C</td>\n",
       "      <td>Coal (Bituminous)</td>\n",
       "      <td>Mine No. 6</td>\n",
       "      <td>Underground</td>\n",
       "      <td>4407296</td>\n",
       "      <td>PB Dirt Movers</td>\n",
       "      <td>VA</td>\n",
       "      <td>Temporarily Idled</td>\n",
       "    </tr>\n",
       "    <tr>\n",
       "      <th>12</th>\n",
       "      <td>C</td>\n",
       "      <td>Coal (Bituminous)</td>\n",
       "      <td>Surface Mine No. 1</td>\n",
       "      <td>Surface</td>\n",
       "      <td>4407270</td>\n",
       "      <td>PB Dirt Movers, Inc</td>\n",
       "      <td>VA</td>\n",
       "      <td>NonProducing</td>\n",
       "    </tr>\n",
       "    <tr>\n",
       "      <th>13</th>\n",
       "      <td>M</td>\n",
       "      <td>Construction Sand and Gravel</td>\n",
       "      <td>Sandretto Drive</td>\n",
       "      <td>Surface</td>\n",
       "      <td>203332</td>\n",
       "      <td>Prescott Dirt, LLC</td>\n",
       "      <td>AZ</td>\n",
       "      <td>Intermittent</td>\n",
       "    </tr>\n",
       "    <tr>\n",
       "      <th>14</th>\n",
       "      <td>M</td>\n",
       "      <td>Construction Sand and Gravel</td>\n",
       "      <td>R D BLANKENSHIP DIRT WORK</td>\n",
       "      <td>Surface</td>\n",
       "      <td>2901986</td>\n",
       "      <td>R D Blankenship Dirt Work LLC</td>\n",
       "      <td>NM</td>\n",
       "      <td>Active</td>\n",
       "    </tr>\n",
       "    <tr>\n",
       "      <th>15</th>\n",
       "      <td>M</td>\n",
       "      <td>Construction Sand and Gravel</td>\n",
       "      <td>Pettibone Jaw Crusher</td>\n",
       "      <td>Surface</td>\n",
       "      <td>4300768</td>\n",
       "      <td>SIMPSON DIRTWORX LLC</td>\n",
       "      <td>VT</td>\n",
       "      <td>Intermittent</td>\n",
       "    </tr>\n",
       "    <tr>\n",
       "      <th>16</th>\n",
       "      <td>M</td>\n",
       "      <td>Construction Sand and Gravel</td>\n",
       "      <td>Chieftan 1400</td>\n",
       "      <td>Surface</td>\n",
       "      <td>4300776</td>\n",
       "      <td>SIMPSON DIRTWORX LLC</td>\n",
       "      <td>VT</td>\n",
       "      <td>Intermittent</td>\n",
       "    </tr>\n",
       "    <tr>\n",
       "      <th>17</th>\n",
       "      <td>M</td>\n",
       "      <td>Construction Sand and Gravel</td>\n",
       "      <td>Mike's Money Pit</td>\n",
       "      <td>Surface</td>\n",
       "      <td>2302283</td>\n",
       "      <td>Spry's Dirt &amp; Gravel, Inc.</td>\n",
       "      <td>MO</td>\n",
       "      <td>Intermittent</td>\n",
       "    </tr>\n",
       "    <tr>\n",
       "      <th>18</th>\n",
       "      <td>M</td>\n",
       "      <td>Construction Sand and Gravel</td>\n",
       "      <td>Crusher</td>\n",
       "      <td>Surface</td>\n",
       "      <td>2103518</td>\n",
       "      <td>Vogt Dirt Service</td>\n",
       "      <td>MN</td>\n",
       "      <td>Intermittent</td>\n",
       "    </tr>\n",
       "  </tbody>\n",
       "</table>\n",
       "</div>"
      ],
      "text/plain": [
       "   coal_or_metal                      commodity  \\\n",
       "0              M      Crushed, Broken Stone NEC   \n",
       "1              M   Construction Sand and Gravel   \n",
       "2              M   Construction Sand and Gravel   \n",
       "3              M  Crushed, Broken Limestone NEC   \n",
       "4              M   Construction Sand and Gravel   \n",
       "5              M   Construction Sand and Gravel   \n",
       "6              M                   Sand, Common   \n",
       "7              M   Construction Sand and Gravel   \n",
       "8              M   Construction Sand and Gravel   \n",
       "9              M            Dimension Stone NEC   \n",
       "10             C              Coal (Bituminous)   \n",
       "11             C              Coal (Bituminous)   \n",
       "12             C              Coal (Bituminous)   \n",
       "13             M   Construction Sand and Gravel   \n",
       "14             M   Construction Sand and Gravel   \n",
       "15             M   Construction Sand and Gravel   \n",
       "16             M   Construction Sand and Gravel   \n",
       "17             M   Construction Sand and Gravel   \n",
       "18             M   Construction Sand and Gravel   \n",
       "\n",
       "                         mine_name    mine_type  operator_id  \\\n",
       "0              Newberg Rock & Dirt      Surface      3503598   \n",
       "1   AM Dirtworks & Aggregate Sales      Surface      4801789   \n",
       "2                       Bush Pilot      Surface      5001797   \n",
       "3                  Hog Lick Quarry      Surface      4608254   \n",
       "4                  Rock Lake Plant      Surface      2103723   \n",
       "5                      Portable #1      Surface      4104757   \n",
       "6                   River Road Pit      Surface       801306   \n",
       "7                PORTABLE SCREENER      Surface      3901432   \n",
       "8                       Forbes Pit      Surface      3609624   \n",
       "9                  Camptown Quarry      Surface      3609931   \n",
       "10               Fedscreek Surface      Surface      1519799   \n",
       "11                      Mine No. 6  Underground      4407296   \n",
       "12              Surface Mine No. 1      Surface      4407270   \n",
       "13                 Sandretto Drive      Surface       203332   \n",
       "14       R D BLANKENSHIP DIRT WORK      Surface      2901986   \n",
       "15           Pettibone Jaw Crusher      Surface      4300768   \n",
       "16                   Chieftan 1400      Surface      4300776   \n",
       "17                Mike's Money Pit      Surface      2302283   \n",
       "18                         Crusher      Surface      2103518   \n",
       "\n",
       "                     operator_name state             status  \n",
       "0              Newberg Rock & Dirt    OR             Active  \n",
       "1   AM Dirtworks & Aggregate Sales    ND       Intermittent  \n",
       "2                     Dirt Company    AK       Intermittent  \n",
       "3                         Dirt Con    WV  Temporarily Idled  \n",
       "4                  Dirt Doctor Inc    MN       Intermittent  \n",
       "5                       Dirt Works    TX       Intermittent  \n",
       "6         Holley Dirt Company, Inc    FL             Active  \n",
       "7   Krueger Brothers Gravel & Dirt    SD       Intermittent  \n",
       "8                         M R Dirt    PA       Intermittent  \n",
       "9                   M.R. Dirt Inc.    PA       Intermittent  \n",
       "10            P B Dirt Movers, Inc    KY             Active  \n",
       "11                  PB Dirt Movers    VA  Temporarily Idled  \n",
       "12             PB Dirt Movers, Inc    VA       NonProducing  \n",
       "13              Prescott Dirt, LLC    AZ       Intermittent  \n",
       "14   R D Blankenship Dirt Work LLC    NM             Active  \n",
       "15            SIMPSON DIRTWORX LLC    VT       Intermittent  \n",
       "16            SIMPSON DIRTWORX LLC    VT       Intermittent  \n",
       "17      Spry's Dirt & Gravel, Inc.    MO       Intermittent  \n",
       "18               Vogt Dirt Service    MN       Intermittent  "
      ]
     },
     "execution_count": 148,
     "metadata": {},
     "output_type": "execute_result"
    }
   ],
   "source": [
    "pd.read_csv(\"scrape_mines.csv\")"
   ]
  },
  {
   "cell_type": "code",
   "execution_count": null,
   "metadata": {
    "collapsed": true
   },
   "outputs": [],
   "source": []
  }
 ],
 "metadata": {
  "kernelspec": {
   "display_name": "Python 3",
   "language": "python",
   "name": "python3"
  },
  "language_info": {
   "codemirror_mode": {
    "name": "ipython",
    "version": 3
   },
   "file_extension": ".py",
   "mimetype": "text/x-python",
   "name": "python",
   "nbconvert_exporter": "python",
   "pygments_lexer": "ipython3",
   "version": "3.6.1"
  }
 },
 "nbformat": 4,
 "nbformat_minor": 2
}
