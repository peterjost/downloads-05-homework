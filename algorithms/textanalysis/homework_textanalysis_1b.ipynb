{
 "cells": [
  {
   "cell_type": "markdown",
   "metadata": {},
   "source": [
    "# Homework text analysis\n",
    "\n",
    "## \"Hip hop's changing attitudes towards women over time\""
   ]
  },
  {
   "cell_type": "code",
   "execution_count": 1,
   "metadata": {},
   "outputs": [
    {
     "data": {
      "text/plain": [
       "['hip-hop/1965/a-change-is-gonna-come-sam-cooke',\n",
       " 'hip-hop/1965/a-lovers-concerto-the-toys',\n",
       " 'hip-hop/1965/a-woman-can-change-a-man-joe-tex',\n",
       " 'hip-hop/1965/a-womans-love-carla-thomas',\n",
       " 'hip-hop/1965/aint-that-peculiar-marvin-gaye']"
      ]
     },
     "execution_count": 1,
     "metadata": {},
     "output_type": "execute_result"
    }
   ],
   "source": [
    "import glob\n",
    "%matplotlib inline\n",
    "filenames = glob.glob('hip-hop/*/*')\n",
    "filenames[:5]"
   ]
  },
  {
   "cell_type": "markdown",
   "metadata": {},
   "source": [
    "## Reading in the files using a list comprehension"
   ]
  },
  {
   "cell_type": "code",
   "execution_count": 2,
   "metadata": {},
   "outputs": [
    {
     "data": {
      "text/plain": [
       "7458"
      ]
     },
     "execution_count": 2,
     "metadata": {},
     "output_type": "execute_result"
    }
   ],
   "source": [
    "contents = [open(filename).read() for filename in filenames]\n",
    "len(contents)"
   ]
  },
  {
   "cell_type": "markdown",
   "metadata": {},
   "source": [
    "## Use the filenames and the contents to build a dataframe"
   ]
  },
  {
   "cell_type": "code",
   "execution_count": 3,
   "metadata": {},
   "outputs": [
    {
     "data": {
      "text/html": [
       "<div>\n",
       "<style>\n",
       "    .dataframe thead tr:only-child th {\n",
       "        text-align: right;\n",
       "    }\n",
       "\n",
       "    .dataframe thead th {\n",
       "        text-align: left;\n",
       "    }\n",
       "\n",
       "    .dataframe tbody tr th {\n",
       "        vertical-align: top;\n",
       "    }\n",
       "</style>\n",
       "<table border=\"1\" class=\"dataframe\">\n",
       "  <thead>\n",
       "    <tr style=\"text-align: right;\">\n",
       "      <th></th>\n",
       "      <th>filename</th>\n",
       "      <th>lyrics</th>\n",
       "    </tr>\n",
       "  </thead>\n",
       "  <tbody>\n",
       "    <tr>\n",
       "      <th>0</th>\n",
       "      <td>hip-hop/1965/a-change-is-gonna-come-sam-cooke</td>\n",
       "      <td>[Verse 1]\\nI was born by the river\\nIn a littl...</td>\n",
       "    </tr>\n",
       "    <tr>\n",
       "      <th>1</th>\n",
       "      <td>hip-hop/1965/a-lovers-concerto-the-toys</td>\n",
       "      <td>How gentle is the rain\\nThat falls softly on t...</td>\n",
       "    </tr>\n",
       "    <tr>\n",
       "      <th>2</th>\n",
       "      <td>hip-hop/1965/a-woman-can-change-a-man-joe-tex</td>\n",
       "      <td>A man can say what he won't do\\nBut if she rea...</td>\n",
       "    </tr>\n",
       "    <tr>\n",
       "      <th>3</th>\n",
       "      <td>hip-hop/1965/a-womans-love-carla-thomas</td>\n",
       "      <td>When I ask you where you've been\\nDon't get an...</td>\n",
       "    </tr>\n",
       "    <tr>\n",
       "      <th>4</th>\n",
       "      <td>hip-hop/1965/aint-that-peculiar-marvin-gaye</td>\n",
       "      <td>[Verse 1]\\nHoney you do me wrong but still I'm...</td>\n",
       "    </tr>\n",
       "  </tbody>\n",
       "</table>\n",
       "</div>"
      ],
      "text/plain": [
       "                                        filename  \\\n",
       "0  hip-hop/1965/a-change-is-gonna-come-sam-cooke   \n",
       "1        hip-hop/1965/a-lovers-concerto-the-toys   \n",
       "2  hip-hop/1965/a-woman-can-change-a-man-joe-tex   \n",
       "3        hip-hop/1965/a-womans-love-carla-thomas   \n",
       "4    hip-hop/1965/aint-that-peculiar-marvin-gaye   \n",
       "\n",
       "                                              lyrics  \n",
       "0  [Verse 1]\\nI was born by the river\\nIn a littl...  \n",
       "1  How gentle is the rain\\nThat falls softly on t...  \n",
       "2  A man can say what he won't do\\nBut if she rea...  \n",
       "3  When I ask you where you've been\\nDon't get an...  \n",
       "4  [Verse 1]\\nHoney you do me wrong but still I'm...  "
      ]
     },
     "execution_count": 3,
     "metadata": {},
     "output_type": "execute_result"
    }
   ],
   "source": [
    "import pandas as pd\n",
    "\n",
    "df = pd.DataFrame({\n",
    "    'lyrics': contents,\n",
    "    'filename': filenames\n",
    "})\n",
    "df.head()"
   ]
  },
  {
   "cell_type": "markdown",
   "metadata": {},
   "source": [
    "## Extract the year into a different column"
   ]
  },
  {
   "cell_type": "code",
   "execution_count": 4,
   "metadata": {},
   "outputs": [
    {
     "data": {
      "text/html": [
       "<div>\n",
       "<style>\n",
       "    .dataframe thead tr:only-child th {\n",
       "        text-align: right;\n",
       "    }\n",
       "\n",
       "    .dataframe thead th {\n",
       "        text-align: left;\n",
       "    }\n",
       "\n",
       "    .dataframe tbody tr th {\n",
       "        vertical-align: top;\n",
       "    }\n",
       "</style>\n",
       "<table border=\"1\" class=\"dataframe\">\n",
       "  <thead>\n",
       "    <tr style=\"text-align: right;\">\n",
       "      <th></th>\n",
       "      <th>filename</th>\n",
       "      <th>lyrics</th>\n",
       "      <th>year</th>\n",
       "    </tr>\n",
       "  </thead>\n",
       "  <tbody>\n",
       "    <tr>\n",
       "      <th>0</th>\n",
       "      <td>hip-hop/1965/a-change-is-gonna-come-sam-cooke</td>\n",
       "      <td>[Verse 1]\\nI was born by the river\\nIn a littl...</td>\n",
       "      <td>1965</td>\n",
       "    </tr>\n",
       "    <tr>\n",
       "      <th>1</th>\n",
       "      <td>hip-hop/1965/a-lovers-concerto-the-toys</td>\n",
       "      <td>How gentle is the rain\\nThat falls softly on t...</td>\n",
       "      <td>1965</td>\n",
       "    </tr>\n",
       "  </tbody>\n",
       "</table>\n",
       "</div>"
      ],
      "text/plain": [
       "                                        filename  \\\n",
       "0  hip-hop/1965/a-change-is-gonna-come-sam-cooke   \n",
       "1        hip-hop/1965/a-lovers-concerto-the-toys   \n",
       "\n",
       "                                              lyrics  year  \n",
       "0  [Verse 1]\\nI was born by the river\\nIn a littl...  1965  \n",
       "1  How gentle is the rain\\nThat falls softly on t...  1965  "
      ]
     },
     "execution_count": 4,
     "metadata": {},
     "output_type": "execute_result"
    }
   ],
   "source": [
    "# expand=False just gets rid of a warning\n",
    "df['year'] = df.filename.str.extract('hip-hop/(\\d*)/', expand=False)\n",
    "df.head(2)"
   ]
  },
  {
   "cell_type": "code",
   "execution_count": 8,
   "metadata": {},
   "outputs": [
    {
     "data": {
      "text/html": [
       "<div>\n",
       "<style>\n",
       "    .dataframe thead tr:only-child th {\n",
       "        text-align: right;\n",
       "    }\n",
       "\n",
       "    .dataframe thead th {\n",
       "        text-align: left;\n",
       "    }\n",
       "\n",
       "    .dataframe tbody tr th {\n",
       "        vertical-align: top;\n",
       "    }\n",
       "</style>\n",
       "<table border=\"1\" class=\"dataframe\">\n",
       "  <thead>\n",
       "    <tr style=\"text-align: right;\">\n",
       "      <th></th>\n",
       "      <th>filename</th>\n",
       "      <th>lyrics</th>\n",
       "      <th>year</th>\n",
       "      <th>datetime</th>\n",
       "      <th>title-artist</th>\n",
       "    </tr>\n",
       "  </thead>\n",
       "  <tbody>\n",
       "    <tr>\n",
       "      <th>0</th>\n",
       "      <td>hip-hop/1965/a-change-is-gonna-come-sam-cooke</td>\n",
       "      <td>I was born by the river\\nIn a little tent\\nAnd...</td>\n",
       "      <td>1965</td>\n",
       "      <td>1965-01-01</td>\n",
       "      <td>a-change-is-gonna-come-sam-cooke</td>\n",
       "    </tr>\n",
       "    <tr>\n",
       "      <th>1</th>\n",
       "      <td>hip-hop/1965/a-lovers-concerto-the-toys</td>\n",
       "      <td>How gentle is the rain\\nThat falls softly on t...</td>\n",
       "      <td>1965</td>\n",
       "      <td>1965-01-01</td>\n",
       "      <td>a-lovers-concerto-the-toys</td>\n",
       "    </tr>\n",
       "  </tbody>\n",
       "</table>\n",
       "</div>"
      ],
      "text/plain": [
       "                                        filename  \\\n",
       "0  hip-hop/1965/a-change-is-gonna-come-sam-cooke   \n",
       "1        hip-hop/1965/a-lovers-concerto-the-toys   \n",
       "\n",
       "                                              lyrics  year   datetime  \\\n",
       "0  I was born by the river\\nIn a little tent\\nAnd...  1965 1965-01-01   \n",
       "1  How gentle is the rain\\nThat falls softly on t...  1965 1965-01-01   \n",
       "\n",
       "                       title-artist  \n",
       "0  a-change-is-gonna-come-sam-cooke  \n",
       "1        a-lovers-concerto-the-toys  "
      ]
     },
     "execution_count": 8,
     "metadata": {},
     "output_type": "execute_result"
    }
   ],
   "source": [
    "df['datetime'] = pd.to_datetime(df['year'], format=\"%Y\")\n",
    "df.head(2)"
   ]
  },
  {
   "cell_type": "markdown",
   "metadata": {},
   "source": [
    "## Extract the artist and song name into another column"
   ]
  },
  {
   "cell_type": "code",
   "execution_count": 6,
   "metadata": {},
   "outputs": [
    {
     "data": {
      "text/html": [
       "<div>\n",
       "<style>\n",
       "    .dataframe thead tr:only-child th {\n",
       "        text-align: right;\n",
       "    }\n",
       "\n",
       "    .dataframe thead th {\n",
       "        text-align: left;\n",
       "    }\n",
       "\n",
       "    .dataframe tbody tr th {\n",
       "        vertical-align: top;\n",
       "    }\n",
       "</style>\n",
       "<table border=\"1\" class=\"dataframe\">\n",
       "  <thead>\n",
       "    <tr style=\"text-align: right;\">\n",
       "      <th></th>\n",
       "      <th>filename</th>\n",
       "      <th>lyrics</th>\n",
       "      <th>year</th>\n",
       "      <th>datetime</th>\n",
       "      <th>title-artist</th>\n",
       "    </tr>\n",
       "  </thead>\n",
       "  <tbody>\n",
       "    <tr>\n",
       "      <th>0</th>\n",
       "      <td>hip-hop/1965/a-change-is-gonna-come-sam-cooke</td>\n",
       "      <td>[Verse 1]\\nI was born by the river\\nIn a littl...</td>\n",
       "      <td>1965</td>\n",
       "      <td>1965-01-01</td>\n",
       "      <td>a-change-is-gonna-come-sam-cooke</td>\n",
       "    </tr>\n",
       "    <tr>\n",
       "      <th>1</th>\n",
       "      <td>hip-hop/1965/a-lovers-concerto-the-toys</td>\n",
       "      <td>How gentle is the rain\\nThat falls softly on t...</td>\n",
       "      <td>1965</td>\n",
       "      <td>1965-01-01</td>\n",
       "      <td>a-lovers-concerto-the-toys</td>\n",
       "    </tr>\n",
       "  </tbody>\n",
       "</table>\n",
       "</div>"
      ],
      "text/plain": [
       "                                        filename  \\\n",
       "0  hip-hop/1965/a-change-is-gonna-come-sam-cooke   \n",
       "1        hip-hop/1965/a-lovers-concerto-the-toys   \n",
       "\n",
       "                                              lyrics  year   datetime  \\\n",
       "0  [Verse 1]\\nI was born by the river\\nIn a littl...  1965 1965-01-01   \n",
       "1  How gentle is the rain\\nThat falls softly on t...  1965 1965-01-01   \n",
       "\n",
       "                       title-artist  \n",
       "0  a-change-is-gonna-come-sam-cooke  \n",
       "1        a-lovers-concerto-the-toys  "
      ]
     },
     "execution_count": 6,
     "metadata": {},
     "output_type": "execute_result"
    }
   ],
   "source": [
    "df['title-artist'] = df.filename.str.extract('hip-hop/\\d*/(.*)', expand=False)\n",
    "df.head(2)"
   ]
  },
  {
   "cell_type": "markdown",
   "metadata": {},
   "source": [
    "## Cleaning up"
   ]
  },
  {
   "cell_type": "code",
   "execution_count": 7,
   "metadata": {},
   "outputs": [
    {
     "data": {
      "text/html": [
       "<div>\n",
       "<style>\n",
       "    .dataframe thead tr:only-child th {\n",
       "        text-align: right;\n",
       "    }\n",
       "\n",
       "    .dataframe thead th {\n",
       "        text-align: left;\n",
       "    }\n",
       "\n",
       "    .dataframe tbody tr th {\n",
       "        vertical-align: top;\n",
       "    }\n",
       "</style>\n",
       "<table border=\"1\" class=\"dataframe\">\n",
       "  <thead>\n",
       "    <tr style=\"text-align: right;\">\n",
       "      <th></th>\n",
       "      <th>filename</th>\n",
       "      <th>lyrics</th>\n",
       "      <th>year</th>\n",
       "      <th>datetime</th>\n",
       "      <th>title-artist</th>\n",
       "    </tr>\n",
       "  </thead>\n",
       "  <tbody>\n",
       "    <tr>\n",
       "      <th>0</th>\n",
       "      <td>hip-hop/1965/a-change-is-gonna-come-sam-cooke</td>\n",
       "      <td>I was born by the river\\nIn a little tent\\nAnd...</td>\n",
       "      <td>1965</td>\n",
       "      <td>1965-01-01</td>\n",
       "      <td>a-change-is-gonna-come-sam-cooke</td>\n",
       "    </tr>\n",
       "    <tr>\n",
       "      <th>1</th>\n",
       "      <td>hip-hop/1965/a-lovers-concerto-the-toys</td>\n",
       "      <td>How gentle is the rain\\nThat falls softly on t...</td>\n",
       "      <td>1965</td>\n",
       "      <td>1965-01-01</td>\n",
       "      <td>a-lovers-concerto-the-toys</td>\n",
       "    </tr>\n",
       "  </tbody>\n",
       "</table>\n",
       "</div>"
      ],
      "text/plain": [
       "                                        filename  \\\n",
       "0  hip-hop/1965/a-change-is-gonna-come-sam-cooke   \n",
       "1        hip-hop/1965/a-lovers-concerto-the-toys   \n",
       "\n",
       "                                              lyrics  year   datetime  \\\n",
       "0  I was born by the river\\nIn a little tent\\nAnd...  1965 1965-01-01   \n",
       "1  How gentle is the rain\\nThat falls softly on t...  1965 1965-01-01   \n",
       "\n",
       "                       title-artist  \n",
       "0  a-change-is-gonna-come-sam-cooke  \n",
       "1        a-lovers-concerto-the-toys  "
      ]
     },
     "execution_count": 7,
     "metadata": {},
     "output_type": "execute_result"
    }
   ],
   "source": [
    "df['lyrics'] = df['lyrics'].replace(\"\\[.*?\\]\", \"\", regex=True).str.strip()\n",
    "df.head(2)"
   ]
  },
  {
   "cell_type": "markdown",
   "metadata": {},
   "source": [
    "\n",
    "# Text analysis\n"
   ]
  },
  {
   "cell_type": "code",
   "execution_count": 34,
   "metadata": {},
   "outputs": [
    {
     "data": {
      "text/html": [
       "<div>\n",
       "<style>\n",
       "    .dataframe thead tr:only-child th {\n",
       "        text-align: right;\n",
       "    }\n",
       "\n",
       "    .dataframe thead th {\n",
       "        text-align: left;\n",
       "    }\n",
       "\n",
       "    .dataframe tbody tr th {\n",
       "        vertical-align: top;\n",
       "    }\n",
       "</style>\n",
       "<table border=\"1\" class=\"dataframe\">\n",
       "  <thead>\n",
       "    <tr style=\"text-align: right;\">\n",
       "      <th></th>\n",
       "      <th>woman</th>\n",
       "      <th>girl</th>\n",
       "      <th>pussy</th>\n",
       "      <th>bitch</th>\n",
       "      <th>shorty</th>\n",
       "      <th>shawty</th>\n",
       "      <th>dime</th>\n",
       "      <th>gal</th>\n",
       "    </tr>\n",
       "  </thead>\n",
       "  <tbody>\n",
       "    <tr>\n",
       "      <th>0</th>\n",
       "      <td>0</td>\n",
       "      <td>0</td>\n",
       "      <td>0</td>\n",
       "      <td>0</td>\n",
       "      <td>0</td>\n",
       "      <td>0</td>\n",
       "      <td>0</td>\n",
       "      <td>0</td>\n",
       "    </tr>\n",
       "    <tr>\n",
       "      <th>1</th>\n",
       "      <td>0</td>\n",
       "      <td>0</td>\n",
       "      <td>0</td>\n",
       "      <td>0</td>\n",
       "      <td>0</td>\n",
       "      <td>0</td>\n",
       "      <td>0</td>\n",
       "      <td>0</td>\n",
       "    </tr>\n",
       "    <tr>\n",
       "      <th>2</th>\n",
       "      <td>5</td>\n",
       "      <td>0</td>\n",
       "      <td>0</td>\n",
       "      <td>0</td>\n",
       "      <td>0</td>\n",
       "      <td>0</td>\n",
       "      <td>0</td>\n",
       "      <td>0</td>\n",
       "    </tr>\n",
       "    <tr>\n",
       "      <th>3</th>\n",
       "      <td>14</td>\n",
       "      <td>0</td>\n",
       "      <td>0</td>\n",
       "      <td>0</td>\n",
       "      <td>0</td>\n",
       "      <td>0</td>\n",
       "      <td>0</td>\n",
       "      <td>0</td>\n",
       "    </tr>\n",
       "    <tr>\n",
       "      <th>4</th>\n",
       "      <td>0</td>\n",
       "      <td>0</td>\n",
       "      <td>0</td>\n",
       "      <td>0</td>\n",
       "      <td>0</td>\n",
       "      <td>0</td>\n",
       "      <td>0</td>\n",
       "      <td>0</td>\n",
       "    </tr>\n",
       "  </tbody>\n",
       "</table>\n",
       "</div>"
      ],
      "text/plain": [
       "   woman  girl  pussy  bitch  shorty  shawty  dime  gal\n",
       "0      0     0      0      0       0       0     0    0\n",
       "1      0     0      0      0       0       0     0    0\n",
       "2      5     0      0      0       0       0     0    0\n",
       "3     14     0      0      0       0       0     0    0\n",
       "4      0     0      0      0       0       0     0    0"
      ]
     },
     "execution_count": 34,
     "metadata": {},
     "output_type": "execute_result"
    }
   ],
   "source": [
    "from sklearn.feature_extraction.text import CountVectorizer\n",
    "#make a new count vectorizer\n",
    "vec = CountVectorizer(vocabulary=['woman', 'girl', 'pussy', 'bitch', 'shorty', 'shawty', 'dime', 'gal'])\n",
    "#say hey vectorizer, please read our stuff\n",
    "matrix = vec.fit_transform(df['lyrics'])\n",
    "\n",
    "results = pd.DataFrame(matrix.toarray(), columns=vec.get_feature_names())\n",
    "results.head()"
   ]
  },
  {
   "cell_type": "code",
   "execution_count": 35,
   "metadata": {},
   "outputs": [
    {
     "data": {
      "text/plain": [
       "count    7458.000000\n",
       "mean        0.244570\n",
       "std         2.139493\n",
       "min         0.000000\n",
       "25%         0.000000\n",
       "50%         0.000000\n",
       "75%         0.000000\n",
       "max       102.000000\n",
       "Name: woman, dtype: float64"
      ]
     },
     "execution_count": 35,
     "metadata": {},
     "output_type": "execute_result"
    }
   ],
   "source": [
    "results['woman'].describe()"
   ]
  },
  {
   "cell_type": "code",
   "execution_count": 10,
   "metadata": {},
   "outputs": [
    {
     "data": {
      "text/plain": [
       "count    7458.000000\n",
       "mean        1.575892\n",
       "std         3.536805\n",
       "min         0.000000\n",
       "25%         0.000000\n",
       "50%         0.000000\n",
       "75%         2.000000\n",
       "max        63.000000\n",
       "Name: girl, dtype: float64"
      ]
     },
     "execution_count": 10,
     "metadata": {},
     "output_type": "execute_result"
    }
   ],
   "source": [
    "results['girl'].describe()"
   ]
  },
  {
   "cell_type": "code",
   "execution_count": 13,
   "metadata": {},
   "outputs": [
    {
     "data": {
      "text/plain": [
       "count    7458.000000\n",
       "mean        0.099356\n",
       "std         0.730142\n",
       "min         0.000000\n",
       "25%         0.000000\n",
       "50%         0.000000\n",
       "75%         0.000000\n",
       "max        31.000000\n",
       "Name: pussy, dtype: float64"
      ]
     },
     "execution_count": 13,
     "metadata": {},
     "output_type": "execute_result"
    }
   ],
   "source": [
    "results['pussy'].describe()"
   ]
  },
  {
   "cell_type": "code",
   "execution_count": 14,
   "metadata": {},
   "outputs": [
    {
     "data": {
      "text/plain": [
       "count    7458.000000\n",
       "mean        0.429740\n",
       "std         2.235549\n",
       "min         0.000000\n",
       "25%         0.000000\n",
       "50%         0.000000\n",
       "75%         0.000000\n",
       "max        64.000000\n",
       "Name: bitch, dtype: float64"
      ]
     },
     "execution_count": 14,
     "metadata": {},
     "output_type": "execute_result"
    }
   ],
   "source": [
    "results['bitch'].describe()"
   ]
  },
  {
   "cell_type": "code",
   "execution_count": 12,
   "metadata": {},
   "outputs": [
    {
     "data": {
      "text/plain": [
       "count    7458.000000\n",
       "mean        0.091043\n",
       "std         0.986375\n",
       "min         0.000000\n",
       "25%         0.000000\n",
       "50%         0.000000\n",
       "75%         0.000000\n",
       "max        39.000000\n",
       "Name: shorty, dtype: float64"
      ]
     },
     "execution_count": 12,
     "metadata": {},
     "output_type": "execute_result"
    }
   ],
   "source": [
    "results['shorty'].describe()"
   ]
  },
  {
   "cell_type": "code",
   "execution_count": 15,
   "metadata": {},
   "outputs": [
    {
     "data": {
      "text/plain": [
       "count    7458.000000\n",
       "mean        0.107670\n",
       "std         1.015142\n",
       "min         0.000000\n",
       "25%         0.000000\n",
       "50%         0.000000\n",
       "75%         0.000000\n",
       "max        50.000000\n",
       "Name: shawty, dtype: float64"
      ]
     },
     "execution_count": 15,
     "metadata": {},
     "output_type": "execute_result"
    }
   ],
   "source": [
    "results['shawty'].describe()"
   ]
  },
  {
   "cell_type": "code",
   "execution_count": 19,
   "metadata": {},
   "outputs": [
    {
     "data": {
      "text/plain": [
       "count    7458.000000\n",
       "mean        0.028158\n",
       "std         0.264600\n",
       "min         0.000000\n",
       "25%         0.000000\n",
       "50%         0.000000\n",
       "75%         0.000000\n",
       "max        15.000000\n",
       "Name: dime, dtype: float64"
      ]
     },
     "execution_count": 19,
     "metadata": {},
     "output_type": "execute_result"
    }
   ],
   "source": [
    "results['dime'].describe()"
   ]
  },
  {
   "cell_type": "code",
   "execution_count": 21,
   "metadata": {},
   "outputs": [
    {
     "data": {
      "text/plain": [
       "count    7458.000000\n",
       "mean        0.024269\n",
       "std         0.842308\n",
       "min         0.000000\n",
       "25%         0.000000\n",
       "50%         0.000000\n",
       "75%         0.000000\n",
       "max        65.000000\n",
       "Name: gal, dtype: float64"
      ]
     },
     "execution_count": 21,
     "metadata": {},
     "output_type": "execute_result"
    }
   ],
   "source": [
    "results['gal'].describe()"
   ]
  },
  {
   "cell_type": "code",
   "execution_count": 22,
   "metadata": {},
   "outputs": [
    {
     "data": {
      "text/html": [
       "<div>\n",
       "<style>\n",
       "    .dataframe thead tr:only-child th {\n",
       "        text-align: right;\n",
       "    }\n",
       "\n",
       "    .dataframe thead th {\n",
       "        text-align: left;\n",
       "    }\n",
       "\n",
       "    .dataframe tbody tr th {\n",
       "        vertical-align: top;\n",
       "    }\n",
       "</style>\n",
       "<table border=\"1\" class=\"dataframe\">\n",
       "  <thead>\n",
       "    <tr style=\"text-align: right;\">\n",
       "      <th></th>\n",
       "      <th>filename</th>\n",
       "      <th>lyrics</th>\n",
       "      <th>year</th>\n",
       "      <th>datetime</th>\n",
       "      <th>title-artist</th>\n",
       "    </tr>\n",
       "  </thead>\n",
       "  <tbody>\n",
       "    <tr>\n",
       "      <th>0</th>\n",
       "      <td>hip-hop/1965/a-change-is-gonna-come-sam-cooke</td>\n",
       "      <td>I was born by the river\\nIn a little tent\\nAnd...</td>\n",
       "      <td>1965</td>\n",
       "      <td>1965-01-01</td>\n",
       "      <td>a-change-is-gonna-come-sam-cooke</td>\n",
       "    </tr>\n",
       "    <tr>\n",
       "      <th>1</th>\n",
       "      <td>hip-hop/1965/a-lovers-concerto-the-toys</td>\n",
       "      <td>How gentle is the rain\\nThat falls softly on t...</td>\n",
       "      <td>1965</td>\n",
       "      <td>1965-01-01</td>\n",
       "      <td>a-lovers-concerto-the-toys</td>\n",
       "    </tr>\n",
       "    <tr>\n",
       "      <th>2</th>\n",
       "      <td>hip-hop/1965/a-woman-can-change-a-man-joe-tex</td>\n",
       "      <td>A man can say what he won't do\\nBut if she rea...</td>\n",
       "      <td>1965</td>\n",
       "      <td>1965-01-01</td>\n",
       "      <td>a-woman-can-change-a-man-joe-tex</td>\n",
       "    </tr>\n",
       "  </tbody>\n",
       "</table>\n",
       "</div>"
      ],
      "text/plain": [
       "                                        filename  \\\n",
       "0  hip-hop/1965/a-change-is-gonna-come-sam-cooke   \n",
       "1        hip-hop/1965/a-lovers-concerto-the-toys   \n",
       "2  hip-hop/1965/a-woman-can-change-a-man-joe-tex   \n",
       "\n",
       "                                              lyrics  year   datetime  \\\n",
       "0  I was born by the river\\nIn a little tent\\nAnd...  1965 1965-01-01   \n",
       "1  How gentle is the rain\\nThat falls softly on t...  1965 1965-01-01   \n",
       "2  A man can say what he won't do\\nBut if she rea...  1965 1965-01-01   \n",
       "\n",
       "                       title-artist  \n",
       "0  a-change-is-gonna-come-sam-cooke  \n",
       "1        a-lovers-concerto-the-toys  \n",
       "2  a-woman-can-change-a-man-joe-tex  "
      ]
     },
     "execution_count": 22,
     "metadata": {},
     "output_type": "execute_result"
    }
   ],
   "source": [
    "df.head(3)"
   ]
  },
  {
   "cell_type": "code",
   "execution_count": 37,
   "metadata": {},
   "outputs": [
    {
     "data": {
      "text/html": [
       "<div>\n",
       "<style>\n",
       "    .dataframe thead tr:only-child th {\n",
       "        text-align: right;\n",
       "    }\n",
       "\n",
       "    .dataframe thead th {\n",
       "        text-align: left;\n",
       "    }\n",
       "\n",
       "    .dataframe tbody tr th {\n",
       "        vertical-align: top;\n",
       "    }\n",
       "</style>\n",
       "<table border=\"1\" class=\"dataframe\">\n",
       "  <thead>\n",
       "    <tr style=\"text-align: right;\">\n",
       "      <th></th>\n",
       "      <th>filename</th>\n",
       "      <th>lyrics</th>\n",
       "      <th>year</th>\n",
       "      <th>datetime</th>\n",
       "      <th>title-artist</th>\n",
       "      <th>girl</th>\n",
       "      <th>pussy</th>\n",
       "      <th>bitch</th>\n",
       "      <th>shorty</th>\n",
       "      <th>shawty</th>\n",
       "      <th>dime</th>\n",
       "      <th>gal</th>\n",
       "      <th>woman</th>\n",
       "    </tr>\n",
       "  </thead>\n",
       "  <tbody>\n",
       "    <tr>\n",
       "      <th>0</th>\n",
       "      <td>hip-hop/1965/a-change-is-gonna-come-sam-cooke</td>\n",
       "      <td>I was born by the river\\nIn a little tent\\nAnd...</td>\n",
       "      <td>1965</td>\n",
       "      <td>1965-01-01</td>\n",
       "      <td>a-change-is-gonna-come-sam-cooke</td>\n",
       "      <td>0</td>\n",
       "      <td>0</td>\n",
       "      <td>0</td>\n",
       "      <td>0</td>\n",
       "      <td>0</td>\n",
       "      <td>0</td>\n",
       "      <td>0</td>\n",
       "      <td>0</td>\n",
       "    </tr>\n",
       "    <tr>\n",
       "      <th>1</th>\n",
       "      <td>hip-hop/1965/a-lovers-concerto-the-toys</td>\n",
       "      <td>How gentle is the rain\\nThat falls softly on t...</td>\n",
       "      <td>1965</td>\n",
       "      <td>1965-01-01</td>\n",
       "      <td>a-lovers-concerto-the-toys</td>\n",
       "      <td>0</td>\n",
       "      <td>0</td>\n",
       "      <td>0</td>\n",
       "      <td>0</td>\n",
       "      <td>0</td>\n",
       "      <td>0</td>\n",
       "      <td>0</td>\n",
       "      <td>0</td>\n",
       "    </tr>\n",
       "    <tr>\n",
       "      <th>2</th>\n",
       "      <td>hip-hop/1965/a-woman-can-change-a-man-joe-tex</td>\n",
       "      <td>A man can say what he won't do\\nBut if she rea...</td>\n",
       "      <td>1965</td>\n",
       "      <td>1965-01-01</td>\n",
       "      <td>a-woman-can-change-a-man-joe-tex</td>\n",
       "      <td>0</td>\n",
       "      <td>0</td>\n",
       "      <td>0</td>\n",
       "      <td>0</td>\n",
       "      <td>0</td>\n",
       "      <td>0</td>\n",
       "      <td>0</td>\n",
       "      <td>5</td>\n",
       "    </tr>\n",
       "    <tr>\n",
       "      <th>3</th>\n",
       "      <td>hip-hop/1965/a-womans-love-carla-thomas</td>\n",
       "      <td>When I ask you where you've been\\nDon't get an...</td>\n",
       "      <td>1965</td>\n",
       "      <td>1965-01-01</td>\n",
       "      <td>a-womans-love-carla-thomas</td>\n",
       "      <td>0</td>\n",
       "      <td>0</td>\n",
       "      <td>0</td>\n",
       "      <td>0</td>\n",
       "      <td>0</td>\n",
       "      <td>0</td>\n",
       "      <td>0</td>\n",
       "      <td>14</td>\n",
       "    </tr>\n",
       "    <tr>\n",
       "      <th>4</th>\n",
       "      <td>hip-hop/1965/aint-that-peculiar-marvin-gaye</td>\n",
       "      <td>Honey you do me wrong but still I'm crazy abou...</td>\n",
       "      <td>1965</td>\n",
       "      <td>1965-01-01</td>\n",
       "      <td>aint-that-peculiar-marvin-gaye</td>\n",
       "      <td>0</td>\n",
       "      <td>0</td>\n",
       "      <td>0</td>\n",
       "      <td>0</td>\n",
       "      <td>0</td>\n",
       "      <td>0</td>\n",
       "      <td>0</td>\n",
       "      <td>0</td>\n",
       "    </tr>\n",
       "  </tbody>\n",
       "</table>\n",
       "</div>"
      ],
      "text/plain": [
       "                                        filename  \\\n",
       "0  hip-hop/1965/a-change-is-gonna-come-sam-cooke   \n",
       "1        hip-hop/1965/a-lovers-concerto-the-toys   \n",
       "2  hip-hop/1965/a-woman-can-change-a-man-joe-tex   \n",
       "3        hip-hop/1965/a-womans-love-carla-thomas   \n",
       "4    hip-hop/1965/aint-that-peculiar-marvin-gaye   \n",
       "\n",
       "                                              lyrics  year   datetime  \\\n",
       "0  I was born by the river\\nIn a little tent\\nAnd...  1965 1965-01-01   \n",
       "1  How gentle is the rain\\nThat falls softly on t...  1965 1965-01-01   \n",
       "2  A man can say what he won't do\\nBut if she rea...  1965 1965-01-01   \n",
       "3  When I ask you where you've been\\nDon't get an...  1965 1965-01-01   \n",
       "4  Honey you do me wrong but still I'm crazy abou...  1965 1965-01-01   \n",
       "\n",
       "                       title-artist  girl  pussy  bitch  shorty  shawty  dime  \\\n",
       "0  a-change-is-gonna-come-sam-cooke     0      0      0       0       0     0   \n",
       "1        a-lovers-concerto-the-toys     0      0      0       0       0     0   \n",
       "2  a-woman-can-change-a-man-joe-tex     0      0      0       0       0     0   \n",
       "3        a-womans-love-carla-thomas     0      0      0       0       0     0   \n",
       "4    aint-that-peculiar-marvin-gaye     0      0      0       0       0     0   \n",
       "\n",
       "   gal  woman  \n",
       "0    0      0  \n",
       "1    0      0  \n",
       "2    0      5  \n",
       "3    0     14  \n",
       "4    0      0  "
      ]
     },
     "execution_count": 37,
     "metadata": {},
     "output_type": "execute_result"
    }
   ],
   "source": [
    "df['woman'] = results['woman']\n",
    "df['girl'] = results['girl']\n",
    "df['pussy'] = results['pussy']\n",
    "df['bitch'] = results['bitch']\n",
    "df['shorty'] = results['shorty']\n",
    "df['shawty'] = results['shawty']\n",
    "df['dime'] = results['dime']\n",
    "df['gal'] = results['gal']\n",
    "df.head()"
   ]
  },
  {
   "cell_type": "code",
   "execution_count": 38,
   "metadata": {},
   "outputs": [
    {
     "data": {
      "text/plain": [
       "year\n",
       "1965     47\n",
       "1966     64\n",
       "1967     46\n",
       "1968     60\n",
       "1969     49\n",
       "1970     36\n",
       "1971     57\n",
       "1972     69\n",
       "1973     32\n",
       "1974     80\n",
       "1975     23\n",
       "1976      0\n",
       "1977     23\n",
       "1978     22\n",
       "1979     17\n",
       "1980      6\n",
       "1981     32\n",
       "1982     61\n",
       "1983     18\n",
       "1984     35\n",
       "1985     10\n",
       "1986      6\n",
       "1987      5\n",
       "1988      4\n",
       "1989     10\n",
       "1990      8\n",
       "1991     26\n",
       "1992     52\n",
       "1993     43\n",
       "1994     51\n",
       "1995     15\n",
       "1996     18\n",
       "1997     10\n",
       "1998     11\n",
       "1999     31\n",
       "2000     42\n",
       "2001     84\n",
       "2002     85\n",
       "2003     49\n",
       "2004     51\n",
       "2005     19\n",
       "2006     33\n",
       "2007    125\n",
       "2008    129\n",
       "2009     23\n",
       "2010     15\n",
       "2011     40\n",
       "2012     15\n",
       "2013     10\n",
       "2014      5\n",
       "2015     16\n",
       "2016      6\n",
       "2017      0\n",
       "Name: woman, dtype: int64"
      ]
     },
     "execution_count": 38,
     "metadata": {},
     "output_type": "execute_result"
    }
   ],
   "source": [
    "df.groupby('year')['woman'].sum()"
   ]
  },
  {
   "cell_type": "code",
   "execution_count": 39,
   "metadata": {},
   "outputs": [
    {
     "data": {
      "text/plain": [
       "<matplotlib.axes._subplots.AxesSubplot at 0x10a2f8908>"
      ]
     },
     "execution_count": 39,
     "metadata": {},
     "output_type": "execute_result"
    },
    {
     "data": {
      "image/png": "[encoded data removed]",
      "text/plain": [
       "<matplotlib.figure.Figure at 0x10a2c9da0>"
      ]
     },
     "metadata": {},
     "output_type": "display_data"
    }
   ],
   "source": [
    "df.groupby('year')['woman'].sum().plot(kind='bar', figsize=(20,4))"
   ]
  },
  {
   "cell_type": "code",
   "execution_count": 26,
   "metadata": {},
   "outputs": [
    {
     "data": {
      "text/plain": [
       "<matplotlib.axes._subplots.AxesSubplot at 0x10984e668>"
      ]
     },
     "execution_count": 26,
     "metadata": {},
     "output_type": "execute_result"
    },
    {
     "data": {
      "image/png": "[encoded data removed]",
      "text/plain": [
       "<matplotlib.figure.Figure at 0x10984ef28>"
      ]
     },
     "metadata": {},
     "output_type": "display_data"
    }
   ],
   "source": [
    "df.groupby('year')['girl'].sum().plot(kind='bar', figsize=(20,4))"
   ]
  },
  {
   "cell_type": "code",
   "execution_count": 32,
   "metadata": {},
   "outputs": [
    {
     "data": {
      "text/plain": [
       "<matplotlib.axes._subplots.AxesSubplot at 0x10ad1c898>"
      ]
     },
     "execution_count": 32,
     "metadata": {},
     "output_type": "execute_result"
    },
    {
     "data": {
      "image/png": "[encoded data removed]",
      "text/plain": [
       "<matplotlib.figure.Figure at 0x10ad46d30>"
      ]
     },
     "metadata": {},
     "output_type": "display_data"
    }
   ],
   "source": [
    "df.groupby('year')['gal'].sum().plot(kind='bar', figsize=(20,4))"
   ]
  },
  {
   "cell_type": "code",
   "execution_count": 27,
   "metadata": {},
   "outputs": [
    {
     "data": {
      "text/plain": [
       "<matplotlib.axes._subplots.AxesSubplot at 0x109b7b5f8>"
      ]
     },
     "execution_count": 27,
     "metadata": {},
     "output_type": "execute_result"
    },
    {
     "data": {
      "image/png": "[encoded data removed]",
      "text/plain": [
       "<matplotlib.figure.Figure at 0x109ba2ac8>"
      ]
     },
     "metadata": {},
     "output_type": "display_data"
    }
   ],
   "source": [
    "df.groupby('year')['pussy'].sum().plot(kind='bar', figsize=(20,4))"
   ]
  },
  {
   "cell_type": "code",
   "execution_count": 28,
   "metadata": {},
   "outputs": [
    {
     "data": {
      "text/plain": [
       "<matplotlib.axes._subplots.AxesSubplot at 0x109f87400>"
      ]
     },
     "execution_count": 28,
     "metadata": {},
     "output_type": "execute_result"
    },
    {
     "data": {
      "image/png": "[encoded data removed]",
      "text/plain": [
       "<matplotlib.figure.Figure at 0x109fa4b00>"
      ]
     },
     "metadata": {},
     "output_type": "display_data"
    }
   ],
   "source": [
    "df.groupby('year')['bitch'].sum().plot(kind='bar', figsize=(20,4))"
   ]
  },
  {
   "cell_type": "code",
   "execution_count": 29,
   "metadata": {},
   "outputs": [
    {
     "data": {
      "text/plain": [
       "<matplotlib.axes._subplots.AxesSubplot at 0x10a2eb908>"
      ]
     },
     "execution_count": 29,
     "metadata": {},
     "output_type": "execute_result"
    },
    {
     "data": {
      "image/png": "[encoded data removed]",
      "text/plain": [
       "<matplotlib.figure.Figure at 0x10a3209b0>"
      ]
     },
     "metadata": {},
     "output_type": "display_data"
    }
   ],
   "source": [
    "df.groupby('year')['shorty'].sum().plot(kind='bar', figsize=(20,4))"
   ]
  },
  {
   "cell_type": "code",
   "execution_count": 31,
   "metadata": {},
   "outputs": [
    {
     "data": {
      "text/plain": [
       "<matplotlib.axes._subplots.AxesSubplot at 0x10a9b6d30>"
      ]
     },
     "execution_count": 31,
     "metadata": {},
     "output_type": "execute_result"
    },
    {
     "data": {
      "image/png": "[encoded data removed]",
      "text/plain": [
       "<matplotlib.figure.Figure at 0x10a9c8518>"
      ]
     },
     "metadata": {},
     "output_type": "display_data"
    }
   ],
   "source": [
    "df.groupby('year')['shawty'].sum().plot(kind='bar', figsize=(20,4))"
   ]
  },
  {
   "cell_type": "code",
   "execution_count": null,
   "metadata": {
    "collapsed": true
   },
   "outputs": [],
   "source": []
  }
 ],
 "metadata": {
  "kernelspec": {
   "display_name": "Python 3",
   "language": "python",
   "name": "python3"
  },
  "language_info": {
   "codemirror_mode": {
    "name": "ipython",
    "version": 3
   },
   "file_extension": ".py",
   "mimetype": "text/x-python",
   "name": "python",
   "nbconvert_exporter": "python",
   "pygments_lexer": "ipython3",
   "version": "3.6.1"
  }
 },
 "nbformat": 4,
 "nbformat_minor": 2
}
