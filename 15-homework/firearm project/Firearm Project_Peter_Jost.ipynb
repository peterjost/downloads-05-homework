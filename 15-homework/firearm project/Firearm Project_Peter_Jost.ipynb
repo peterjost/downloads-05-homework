{
 "cells": [
  {
   "cell_type": "markdown",
   "metadata": {},
   "source": [
    "# Firearm Project"
   ]
  },
  {
   "cell_type": "markdown",
   "metadata": {},
   "source": [
    "https://www.muckrock.com/foi/cary-4112/firearm-project-cary-nc-34130/"
   ]
  },
  {
   "cell_type": "code",
   "execution_count": 61,
   "metadata": {
    "collapsed": true
   },
   "outputs": [],
   "source": [
    "import pandas as pd\n",
    "import numpy as np\n",
    "%matplotlib inline\n",
    "df = pd.read_excel('/Users/peterjost/Downloads/15-Homework/Firearm Project/STOLEN03142017_09_08_45.xlsx', skiprows=2)"
   ]
  },
  {
   "cell_type": "code",
   "execution_count": 62,
   "metadata": {},
   "outputs": [
    {
     "data": {
      "text/html": [
       "<div>\n",
       "<style>\n",
       "    .dataframe thead tr:only-child th {\n",
       "        text-align: right;\n",
       "    }\n",
       "\n",
       "    .dataframe thead th {\n",
       "        text-align: left;\n",
       "    }\n",
       "\n",
       "    .dataframe tbody tr th {\n",
       "        vertical-align: top;\n",
       "    }\n",
       "</style>\n",
       "<table border=\"1\" class=\"dataframe\">\n",
       "  <thead>\n",
       "    <tr style=\"text-align: right;\">\n",
       "      <th></th>\n",
       "      <th>User: KDAVIS</th>\n",
       "      <th>Unnamed: 1</th>\n",
       "      <th>Cary Police Department</th>\n",
       "      <th>Unnamed: 3</th>\n",
       "      <th>Unnamed: 4</th>\n",
       "      <th>03/14/2017 09:08:49</th>\n",
       "    </tr>\n",
       "  </thead>\n",
       "  <tbody>\n",
       "    <tr>\n",
       "      <th>0</th>\n",
       "      <td>NaN</td>\n",
       "      <td>NaN</td>\n",
       "      <td>STOLEN</td>\n",
       "      <td>NaN</td>\n",
       "      <td>NaN</td>\n",
       "      <td>NaN</td>\n",
       "    </tr>\n",
       "    <tr>\n",
       "      <th>1</th>\n",
       "      <td>NaN</td>\n",
       "      <td>NaN</td>\n",
       "      <td>1/1/10 - 3/14/17</td>\n",
       "      <td>NaN</td>\n",
       "      <td>NaN</td>\n",
       "      <td>NaN</td>\n",
       "    </tr>\n",
       "    <tr>\n",
       "      <th>2</th>\n",
       "      <td>PROPDESC</td>\n",
       "      <td>NaN</td>\n",
       "      <td>MAKE</td>\n",
       "      <td>MODEL</td>\n",
       "      <td>SERIALNO</td>\n",
       "      <td>NaN</td>\n",
       "    </tr>\n",
       "    <tr>\n",
       "      <th>3</th>\n",
       "      <td>PELLET RIFLE</td>\n",
       "      <td>NaN</td>\n",
       "      <td>NaN</td>\n",
       "      <td>NaN</td>\n",
       "      <td>NaN</td>\n",
       "      <td>NaN</td>\n",
       "    </tr>\n",
       "    <tr>\n",
       "      <th>4</th>\n",
       "      <td>SHOTGUN SHELLS</td>\n",
       "      <td>NaN</td>\n",
       "      <td>REMINGTON</td>\n",
       "      <td>NaN</td>\n",
       "      <td>NaN</td>\n",
       "      <td>NaN</td>\n",
       "    </tr>\n",
       "  </tbody>\n",
       "</table>\n",
       "</div>"
      ],
      "text/plain": [
       "     User: KDAVIS Unnamed: 1 Cary Police Department Unnamed: 3 Unnamed: 4  \\\n",
       "0             NaN        NaN                 STOLEN        NaN        NaN   \n",
       "1             NaN        NaN       1/1/10 - 3/14/17        NaN        NaN   \n",
       "2        PROPDESC        NaN                   MAKE      MODEL   SERIALNO   \n",
       "3    PELLET RIFLE        NaN                    NaN        NaN        NaN   \n",
       "4  SHOTGUN SHELLS        NaN              REMINGTON        NaN        NaN   \n",
       "\n",
       "   03/14/2017 09:08:49  \n",
       "0                  NaN  \n",
       "1                  NaN  \n",
       "2                  NaN  \n",
       "3                  NaN  \n",
       "4                  NaN  "
      ]
     },
     "execution_count": 62,
     "metadata": {},
     "output_type": "execute_result"
    }
   ],
   "source": [
    "df.head()"
   ]
  },
  {
   "cell_type": "code",
   "execution_count": 63,
   "metadata": {},
   "outputs": [],
   "source": [
    "#dropping some rows\n",
    "df = df.drop(df.index[[0, 1, 2]])"
   ]
  },
  {
   "cell_type": "code",
   "execution_count": 64,
   "metadata": {},
   "outputs": [
    {
     "data": {
      "text/html": [
       "<div>\n",
       "<style>\n",
       "    .dataframe thead tr:only-child th {\n",
       "        text-align: right;\n",
       "    }\n",
       "\n",
       "    .dataframe thead th {\n",
       "        text-align: left;\n",
       "    }\n",
       "\n",
       "    .dataframe tbody tr th {\n",
       "        vertical-align: top;\n",
       "    }\n",
       "</style>\n",
       "<table border=\"1\" class=\"dataframe\">\n",
       "  <thead>\n",
       "    <tr style=\"text-align: right;\">\n",
       "      <th></th>\n",
       "      <th>User: KDAVIS</th>\n",
       "      <th>Unnamed: 1</th>\n",
       "      <th>Cary Police Department</th>\n",
       "      <th>Unnamed: 3</th>\n",
       "      <th>Unnamed: 4</th>\n",
       "      <th>03/14/2017 09:08:49</th>\n",
       "    </tr>\n",
       "  </thead>\n",
       "  <tbody>\n",
       "    <tr>\n",
       "      <th>3</th>\n",
       "      <td>PELLET RIFLE</td>\n",
       "      <td>NaN</td>\n",
       "      <td>NaN</td>\n",
       "      <td>NaN</td>\n",
       "      <td>NaN</td>\n",
       "      <td>NaN</td>\n",
       "    </tr>\n",
       "    <tr>\n",
       "      <th>4</th>\n",
       "      <td>SHOTGUN SHELLS</td>\n",
       "      <td>NaN</td>\n",
       "      <td>REMINGTON</td>\n",
       "      <td>NaN</td>\n",
       "      <td>NaN</td>\n",
       "      <td>NaN</td>\n",
       "    </tr>\n",
       "    <tr>\n",
       "      <th>5</th>\n",
       "      <td>SHOTGUN</td>\n",
       "      <td>NaN</td>\n",
       "      <td>REMINGTON</td>\n",
       "      <td>NaN</td>\n",
       "      <td>NaN</td>\n",
       "      <td>NaN</td>\n",
       "    </tr>\n",
       "    <tr>\n",
       "      <th>6</th>\n",
       "      <td>SHOTGUN</td>\n",
       "      <td>NaN</td>\n",
       "      <td>BERETTA</td>\n",
       "      <td>AL391</td>\n",
       "      <td>AA155419</td>\n",
       "      <td>NaN</td>\n",
       "    </tr>\n",
       "    <tr>\n",
       "      <th>7</th>\n",
       "      <td>SEMI AUTO PISTOL</td>\n",
       "      <td>NaN</td>\n",
       "      <td>RUGER</td>\n",
       "      <td>ACP</td>\n",
       "      <td>377-74210</td>\n",
       "      <td>NaN</td>\n",
       "    </tr>\n",
       "  </tbody>\n",
       "</table>\n",
       "</div>"
      ],
      "text/plain": [
       "       User: KDAVIS Unnamed: 1 Cary Police Department Unnamed: 3 Unnamed: 4  \\\n",
       "3      PELLET RIFLE        NaN                    NaN        NaN        NaN   \n",
       "4    SHOTGUN SHELLS        NaN              REMINGTON        NaN        NaN   \n",
       "5           SHOTGUN        NaN              REMINGTON        NaN        NaN   \n",
       "6           SHOTGUN        NaN                BERETTA      AL391   AA155419   \n",
       "7  SEMI AUTO PISTOL        NaN                  RUGER        ACP  377-74210   \n",
       "\n",
       "   03/14/2017 09:08:49  \n",
       "3                  NaN  \n",
       "4                  NaN  \n",
       "5                  NaN  \n",
       "6                  NaN  \n",
       "7                  NaN  "
      ]
     },
     "execution_count": 64,
     "metadata": {},
     "output_type": "execute_result"
    }
   ],
   "source": [
    "df.head()"
   ]
  },
  {
   "cell_type": "code",
   "execution_count": 72,
   "metadata": {},
   "outputs": [
    {
     "data": {
      "text/html": [
       "<div>\n",
       "<style>\n",
       "    .dataframe thead tr:only-child th {\n",
       "        text-align: right;\n",
       "    }\n",
       "\n",
       "    .dataframe thead th {\n",
       "        text-align: left;\n",
       "    }\n",
       "\n",
       "    .dataframe tbody tr th {\n",
       "        vertical-align: top;\n",
       "    }\n",
       "</style>\n",
       "<table border=\"1\" class=\"dataframe\">\n",
       "  <thead>\n",
       "    <tr style=\"text-align: right;\">\n",
       "      <th></th>\n",
       "      <th>Gun Type</th>\n",
       "      <th>Brand</th>\n",
       "      <th>Model</th>\n",
       "      <th>Serial Number</th>\n",
       "    </tr>\n",
       "  </thead>\n",
       "  <tbody>\n",
       "    <tr>\n",
       "      <th>3</th>\n",
       "      <td>PELLET RIFLE</td>\n",
       "      <td>NaN</td>\n",
       "      <td>NaN</td>\n",
       "      <td>NaN</td>\n",
       "    </tr>\n",
       "    <tr>\n",
       "      <th>4</th>\n",
       "      <td>SHOTGUN SHELLS</td>\n",
       "      <td>REMINGTON</td>\n",
       "      <td>NaN</td>\n",
       "      <td>NaN</td>\n",
       "    </tr>\n",
       "    <tr>\n",
       "      <th>5</th>\n",
       "      <td>SHOTGUN</td>\n",
       "      <td>REMINGTON</td>\n",
       "      <td>NaN</td>\n",
       "      <td>NaN</td>\n",
       "    </tr>\n",
       "    <tr>\n",
       "      <th>6</th>\n",
       "      <td>SHOTGUN</td>\n",
       "      <td>BERETTA</td>\n",
       "      <td>AL391</td>\n",
       "      <td>AA155419</td>\n",
       "    </tr>\n",
       "    <tr>\n",
       "      <th>7</th>\n",
       "      <td>SEMI AUTO PISTOL</td>\n",
       "      <td>RUGER</td>\n",
       "      <td>ACP</td>\n",
       "      <td>377-74210</td>\n",
       "    </tr>\n",
       "  </tbody>\n",
       "</table>\n",
       "</div>"
      ],
      "text/plain": [
       "           Gun Type      Brand  Model Serial Number\n",
       "3      PELLET RIFLE        NaN    NaN           NaN\n",
       "4    SHOTGUN SHELLS  REMINGTON    NaN           NaN\n",
       "5           SHOTGUN  REMINGTON    NaN           NaN\n",
       "6           SHOTGUN    BERETTA  AL391      AA155419\n",
       "7  SEMI AUTO PISTOL      RUGER    ACP     377-74210"
      ]
     },
     "execution_count": 72,
     "metadata": {},
     "output_type": "execute_result"
    }
   ],
   "source": [
    "#doing some cleaning\n",
    "df = df.rename(columns={'User: KDAVIS': 'Gun Type'})\n",
    "df = df.rename(columns={'Cary Police Department': 'Brand'})\n",
    "df = df.rename(columns={'Unnamed: 4': 'Serial Number'})\n",
    "df = df.rename(columns={'Unnamed: 3': 'Model'})\n",
    "del df['Unnamed: 1']\n",
    "del df['03/14/2017 09:08:49']\n",
    "df.head()"
   ]
  },
  {
   "cell_type": "code",
   "execution_count": 74,
   "metadata": {},
   "outputs": [
    {
     "data": {
      "text/plain": [
       "FIREARMS/AMMUNITION                    82\n",
       "AMMUNITION                             39\n",
       "HANDGUN                                29\n",
       "FIREARMS                               15\n",
       "RIFLE                                  11\n",
       "SHOTGUN                                10\n",
       "FIREARM                                 8\n",
       "PROPDESC                                7\n",
       "STOLEN                                  7\n",
       "MAGAZINES                               3\n",
       "MAGAZINE                                2\n",
       "HOLSTER                                 2\n",
       "SEMI AUTO HANDGUN                       2\n",
       "BB GUN                                  2\n",
       "SMITH & WESSON M &P 9MM                 2\n",
       "RUGER VAQUERO PISTOL                    2\n",
       "RUGER 9MM HANDGUN                       2\n",
       "SEMI AUTO PISTOL                        2\n",
       "H&K USP HANDGUN                         1\n",
       "BLACK RUGER LCP PISTOL                  1\n",
       "SPRINGFIELD XDS HANDGUN                 1\n",
       "TASER                                   1\n",
       "MOSSBERG 12 GAUGE SHOTGUN               1\n",
       "RUGAR 22CAL                             1\n",
       ".380 CAL. AMMUNITION                    1\n",
       "MAGAZINE WITH EIGHT (8)                 1\n",
       "USP PISTOL                              1\n",
       "12 GAUGE PUMP SHOTGUN                   1\n",
       "SMITH AND WESSON GOVENOR                1\n",
       "SPRINGFIELD ARMORY 1911-A1 MILSPEC      1\n",
       "                                       ..\n",
       "BB GUN (PISTOL)                         1\n",
       "RIFLE (BOLT ACTION)                     1\n",
       "MARLIN .22                              1\n",
       "RUGER SR9                               1\n",
       "GLOCK G23                               1\n",
       "MUZZLELOADER                            1\n",
       "SPRINGFIELD ARMORY CHAMPION .45 ACP     1\n",
       "NEW ENGLAND FIREARMS/12 GA SHOTGUN      1\n",
       "Page 1                                  1\n",
       "GLOCK 17 GEN 4 HANDGUN                  1\n",
       "SP 45 SPRINGFIELD HANDGUN               1\n",
       "9MM SEMI AUTOMATIC                      1\n",
       "12 GAUGE SHOTGUN                        1\n",
       "AR-15                                   1\n",
       "MAGAZINE WITH AMMO                      1\n",
       "PISTOL -SEMI-AUTOMATIC                  1\n",
       "RIFLES                                  1\n",
       "SMITH AND WESSON .38                    1\n",
       "REMINGTON 870 SHOTGUN                   1\n",
       "TAURUS 9MM HAND GUN                     1\n",
       "9MM MAGAZINES                           1\n",
       "SKS RIFLE                               1\n",
       "REMINGTON 1100 12G SHOTGUN              1\n",
       "GAS CYLINDER                            1\n",
       "GLOCK 43                                1\n",
       "PELLET RIFLE                            1\n",
       "PAINTBALL GUN                           1\n",
       "LOADED FIREARM                          1\n",
       "BOLT ACTION RIFLE                       1\n",
       "GLOCK 17 HANDGUN                        1\n",
       "Name: Gun Type, Length: 101, dtype: int64"
      ]
     },
     "execution_count": 74,
     "metadata": {},
     "output_type": "execute_result"
    }
   ],
   "source": [
    "df['Gun Type'].value_counts()"
   ]
  },
  {
   "cell_type": "code",
   "execution_count": 75,
   "metadata": {},
   "outputs": [
    {
     "data": {
      "text/plain": [
       "FIREARMS/AMMUNITION    82\n",
       "AMMUNITION             39\n",
       "HANDGUN                29\n",
       "FIREARMS               15\n",
       "RIFLE                  11\n",
       "Name: Gun Type, dtype: int64"
      ]
     },
     "execution_count": 75,
     "metadata": {},
     "output_type": "execute_result"
    }
   ],
   "source": [
    "df['Gun Type'] = df['Gun Type'].replace('REVOLVER', 'HANDGUN')\n",
    "df['Gun Type'] = df['Gun Type'].replace('PISTOL', 'HANDGUN')\n",
    "df['Gun Type'].value_counts().head(5)"
   ]
  },
  {
   "cell_type": "code",
   "execution_count": 76,
   "metadata": {},
   "outputs": [
    {
     "data": {
      "text/plain": [
       "<matplotlib.axes._subplots.AxesSubplot at 0x110c02dd8>"
      ]
     },
     "execution_count": 76,
     "metadata": {},
     "output_type": "execute_result"
    },
    {
     "data": {
      "image/png": "[encoded data removed]",
      "text/plain": [
       "<matplotlib.figure.Figure at 0x110c0f6d8>"
      ]
     },
     "metadata": {},
     "output_type": "display_data"
    }
   ],
   "source": [
    "df['Gun Type'].value_counts(ascending=True).tail(5).plot(kind='barh')"
   ]
  },
  {
   "cell_type": "code",
   "execution_count": 77,
   "metadata": {},
   "outputs": [
    {
     "data": {
      "text/plain": [
       "TAURUS                     6\n",
       "LCP                        5\n",
       "RUGER                      4\n",
       "HOLLOW POINT               3\n",
       "9MM                        3\n",
       "870                        3\n",
       "19                         3\n",
       "PPK                        3\n",
       "REMINGTON                  3\n",
       "XDS                        3\n",
       "1911                       3\n",
       "SPECIAL 158 GR             2\n",
       "BERETTA                    2\n",
       "MARLIN                     2\n",
       "17                         2\n",
       "RIFLE                      2\n",
       "WINCHESTER                 2\n",
       "158 GR                     2\n",
       "0.22                       2\n",
       "M&P                        2\n",
       "SAVAGE .270                1\n",
       "SR40                       1\n",
       "590                        1\n",
       "MATCH FMJ230               1\n",
       "SELLER & BELLET 158 FMJ    1\n",
       "SAVAGE SPRINGFI 187J       1\n",
       "G22                        1\n",
       "SPX                        1\n",
       "BT9CC                      1\n",
       "BB GUN PISTOL              1\n",
       "                          ..\n",
       "OW HANDLE                  1\n",
       "WWII RIFLE                 1\n",
       "255 GR LONG                1\n",
       "MAGAZINE                   1\n",
       "PF 9                       1\n",
       ".40 S&P                    1\n",
       "M-9                        1\n",
       "SW9VE                      1\n",
       "SOFT POINT                 1\n",
       "40 V-10                    1\n",
       "CITIATION                  1\n",
       "22CAL                      1\n",
       "MINI14                     1\n",
       "PRO CARRY                  1\n",
       "700                        1\n",
       "SR380                      1\n",
       "BOBCAT                     1\n",
       "03313                      1\n",
       "FMJ 230 GR                 1\n",
       "AR-15                      1\n",
       "SR9                        1\n",
       "SMITH AND WESSO M&P 40     1\n",
       "JHP                        1\n",
       "27                         1\n",
       "SP 45                      1\n",
       "938                        1\n",
       "05401                      1\n",
       "DET SPECIAL                1\n",
       "GLOCK 43                   1\n",
       "ACP FMJ 230 GRA            1\n",
       "Name: Brand, Length: 169, dtype: int64"
      ]
     },
     "execution_count": 77,
     "metadata": {},
     "output_type": "execute_result"
    }
   ],
   "source": [
    "df['Brand'].value_counts()"
   ]
  },
  {
   "cell_type": "code",
   "execution_count": 78,
   "metadata": {
    "collapsed": true
   },
   "outputs": [],
   "source": [
    "df['Brand'].replace('MODEL', np.nan, inplace=True)"
   ]
  },
  {
   "cell_type": "code",
   "execution_count": 79,
   "metadata": {},
   "outputs": [
    {
     "data": {
      "text/plain": [
       "<matplotlib.axes._subplots.AxesSubplot at 0x110d1a160>"
      ]
     },
     "execution_count": 79,
     "metadata": {},
     "output_type": "execute_result"
    },
    {
     "data": {
      "image/png": "[encoded data removed]",
      "text/plain": [
       "<matplotlib.figure.Figure at 0x110bad320>"
      ]
     },
     "metadata": {},
     "output_type": "display_data"
    }
   ],
   "source": [
    "df['Brand'].value_counts(ascending=True).tail(5).plot(kind='barh')"
   ]
  },
  {
   "cell_type": "code",
   "execution_count": 80,
   "metadata": {
    "collapsed": true
   },
   "outputs": [],
   "source": []
  },
  {
   "cell_type": "code",
   "execution_count": null,
   "metadata": {
    "collapsed": true
   },
   "outputs": [],
   "source": []
  }
 ],
 "metadata": {
  "kernelspec": {
   "display_name": "Python 3",
   "language": "python",
   "name": "python3"
  },
  "language_info": {
   "codemirror_mode": {
    "name": "ipython",
    "version": 3
   },
   "file_extension": ".py",
   "mimetype": "text/x-python",
   "name": "python",
   "nbconvert_exporter": "python",
   "pygments_lexer": "ipython3",
   "version": "3.6.1"
  }
 },
 "nbformat": 4,
 "nbformat_minor": 2
}
